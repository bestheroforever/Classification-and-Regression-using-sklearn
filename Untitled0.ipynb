{
  "nbformat": 4,
  "nbformat_minor": 0,
  "metadata": {
    "colab": {
      "name": "Untitled0.ipynb",
      "private_outputs": true,
      "provenance": [],
      "collapsed_sections": [],
      "authorship_tag": "ABX9TyOvmTcmrzqlqy60kl3HR7UQ",
      "include_colab_link": true
    },
    "kernelspec": {
      "name": "python3",
      "display_name": "Python 3"
    },
    "language_info": {
      "name": "python"
    }
  },
  "cells": [
    {
      "cell_type": "markdown",
      "metadata": {
        "id": "view-in-github",
        "colab_type": "text"
      },
      "source": [
        "<a href=\"https://colab.research.google.com/github/bestheroforever/Classification-and-Regression-using-sklearn/blob/master/Untitled0.ipynb\" target=\"_parent\"><img src=\"https://colab.research.google.com/assets/colab-badge.svg\" alt=\"Open In Colab\"/></a>"
      ]
    },
    {
      "cell_type": "code",
      "metadata": {
        "id": "h6GvhnXYTwPQ"
      },
      "source": [
        "import pandas_datareader as web\n",
        "import numpy as np\n",
        "import pandas as pd\n",
        "from sklearn.preprocessing import MinMaxScaler\n",
        "from keras.models import *\n",
        "from keras.layers import *\n",
        "import matplotlib.pyplot as plt\n",
        "plt.style.use('fivethirtyeight')\n",
        "import math"
      ],
      "execution_count": null,
      "outputs": []
    },
    {
      "cell_type": "code",
      "metadata": {
        "id": "1Ey-RyMQVDyb"
      },
      "source": [
        "df =web.DataReader(\"AAPL\",data_source='yahoo')\n",
        "df"
      ],
      "execution_count": null,
      "outputs": []
    },
    {
      "cell_type": "code",
      "metadata": {
        "id": "nk5LBznBVPbb"
      },
      "source": [
        "df.shape"
      ],
      "execution_count": null,
      "outputs": []
    },
    {
      "cell_type": "code",
      "metadata": {
        "id": "9NJK1-cKVStj"
      },
      "source": [
        "plt.figure(figsize=(16,8))\n",
        "plt.title(\"Close Price History\")\n",
        "plt.plot(df[\"Close\"])\n",
        "plt.xlabel('Date',fontsize=18)\n",
        "plt.ylabel(\"Close Price USD\",fontsize=18)\n",
        "plt.show()"
      ],
      "execution_count": null,
      "outputs": []
    },
    {
      "cell_type": "code",
      "metadata": {
        "id": "WBLT8XxxV81o"
      },
      "source": [
        "data=df.filter([\"Close\"])\n",
        "dataset=data.values\n",
        "training_data_len=math.ceil(len(dataset)*.8)\n",
        "training_data_len"
      ],
      "execution_count": null,
      "outputs": []
    },
    {
      "cell_type": "code",
      "metadata": {
        "id": "jUUyrJUUXdsn"
      },
      "source": [
        "scaler=MinMaxScaler(feature_range=(0,1))\n",
        "scaled_data=scaler.fit_transform(dataset)\n",
        "scaled_data"
      ],
      "execution_count": null,
      "outputs": []
    },
    {
      "cell_type": "code",
      "metadata": {
        "id": "M7HrdwFoX9Iy"
      },
      "source": [
        "train_data=scaled_data[0:training_data_len,:]\n",
        "x_train=[]\n",
        "y_train=[]\n",
        "pervious_len=60\n",
        "for i in range(pervious_len,len(train_data)):\n",
        "  x_train.append(train_data[i-pervious_len:i,0])\n",
        "  y_train.append(train_data[i,0])\n",
        "  if i <=pervious_len:\n",
        "    print(x_train)\n",
        "    print(y_train)\n",
        "    print()\n",
        "    "
      ],
      "execution_count": null,
      "outputs": []
    },
    {
      "cell_type": "code",
      "metadata": {
        "id": "c8OOBOibZZ5X"
      },
      "source": [
        "x_train,y_train=np.array(x_train),np.array(y_train)\n",
        "x_train=np.reshape(x_train,(x_train.shape[0],x_train.shape[1],1))\n",
        "x_train.shape"
      ],
      "execution_count": null,
      "outputs": []
    },
    {
      "cell_type": "code",
      "metadata": {
        "id": "edqPfRcHaEJ9"
      },
      "source": [
        "model =Sequential()\n",
        "model.add(LSTM(50,return_sequences=True,input_shape=(x_train.shape[1],1)))\n",
        "model.add(LSTM(50,return_sequences=False))\n",
        "model.add(Dense(25))\n",
        "model.add(Dense(1))"
      ],
      "execution_count": null,
      "outputs": []
    },
    {
      "cell_type": "code",
      "metadata": {
        "id": "CyMRQJanbCIq"
      },
      "source": [
        "model.compile(optimizer='adam',loss='mean_squared_error')"
      ],
      "execution_count": null,
      "outputs": []
    },
    {
      "cell_type": "code",
      "metadata": {
        "id": "8hhM3TiQbbYu"
      },
      "source": [
        "model.fit(x_train,y_train,batch_size=1,epochs=2)"
      ],
      "execution_count": null,
      "outputs": []
    },
    {
      "cell_type": "code",
      "metadata": {
        "id": "sy5LQJOyb5dG"
      },
      "source": [
        "test_data=scaled_data[training_data_len-pervious_len:,:]\n",
        "x_test=[]\n",
        "y_test=dataset[training_data_len:,:]\n",
        "for i in range(pervious_len,len(test_data)):\n",
        "  x_test.append(test_data[i-pervious_len:i,0])\n",
        "  "
      ],
      "execution_count": null,
      "outputs": []
    },
    {
      "cell_type": "code",
      "metadata": {
        "id": "Bl2Jd4kUc4tP"
      },
      "source": [
        "x_test=np.array(x_test)"
      ],
      "execution_count": null,
      "outputs": []
    },
    {
      "cell_type": "code",
      "metadata": {
        "id": "BQfa0yfJdBTv"
      },
      "source": [
        "x_test=np.reshape(x_test,(x_test.shape[0],x_test.shape[1],1))"
      ],
      "execution_count": null,
      "outputs": []
    },
    {
      "cell_type": "code",
      "metadata": {
        "id": "m6Kq9wJWdYbw"
      },
      "source": [
        "predictions=model.predict(x_test)\n",
        "predictions=scaler.inverse_transform(predictions)"
      ],
      "execution_count": null,
      "outputs": []
    },
    {
      "cell_type": "code",
      "metadata": {
        "id": "mXWhjtchdt75"
      },
      "source": [
        "rsme=np.sqrt(np.mean(predictions-y_test)**2)\n",
        "rsme"
      ],
      "execution_count": null,
      "outputs": []
    },
    {
      "cell_type": "code",
      "metadata": {
        "id": "U81HFKoIeLE7"
      },
      "source": [
        "train=data[:training_data_len]\n",
        "valid=data[training_data_len:]\n",
        "valid['Predictions']=predictions\n",
        "plt.figure(figsize=(16,8))\n",
        "plt.title(\"Model\")\n",
        "plt.xlabel('Data',fontsize=18)\n",
        "plt.ylabel(\"Close \",fontsize=18)\n",
        "plt.plot(train[\"Close\"])\n",
        "plt.plot(valid[['Close','Predictions']])\n",
        "plt.legend(['Train','val','pre'],loc='lower right')\n",
        "plt.show()"
      ],
      "execution_count": null,
      "outputs": []
    },
    {
      "cell_type": "code",
      "metadata": {
        "id": "dPh6GYnrfgeI"
      },
      "source": [
        "valid"
      ],
      "execution_count": null,
      "outputs": []
    },
    {
      "cell_type": "code",
      "metadata": {
        "id": "qdbbEAZy2vKR"
      },
      "source": [
        ""
      ],
      "execution_count": null,
      "outputs": []
    }
  ]
}